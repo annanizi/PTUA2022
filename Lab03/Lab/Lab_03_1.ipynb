{
 "cells": [
  {
   "cell_type": "markdown",
   "id": "9923cd94-c2c6-4d7d-a677-778f6810fe31",
   "metadata": {},
   "source": [
    "## Chapter 2, Exercise 1  \n",
    "\n",
    "Repeating my advice from the previous chapter, whenever you learn a new feature, you should try it out in interactive mode and make errors on purpose to see what goes wrong.\n",
    "-We’ve seen that n = 42 is legal. What about 42 = n?\n",
    "\n",
    "-How about x = y = 1?\n",
    "\n",
    "-In some languages every statement ends with a semi-colon, ;. What happens if you put a semi-colon at the end of a Python statement?\n",
    "\n",
    "-What if you put a period at the end of a statement?\n",
    "\n",
    "-In math notation you can multiply x and y like this: x y. What happens if you try that in Python?"
   ]
  },
  {
   "cell_type": "code",
   "execution_count": 3,
   "id": "7402e1db-6863-4c36-a617-014ed39528e3",
   "metadata": {},
   "outputs": [
    {
     "name": "stdout",
     "output_type": "stream",
     "text": [
      "42\n"
     ]
    }
   ],
   "source": [
    "# Chapter 2, Exercise 1 \n",
    "n = 42\n",
    "print(n)"
   ]
  },
  {
   "cell_type": "code",
   "execution_count": 4,
   "id": "a6c04475-89e7-4b48-aa68-85e12cc42159",
   "metadata": {},
   "outputs": [
    {
     "ename": "SyntaxError",
     "evalue": "cannot assign to literal (1537387206.py, line 1)",
     "output_type": "error",
     "traceback": [
      "\u001b[0;36m  File \u001b[0;32m\"/var/folders/fw/9sq6_3nx3gq6wfdk2wt2hq6c0000gn/T/ipykernel_1648/1537387206.py\"\u001b[0;36m, line \u001b[0;32m1\u001b[0m\n\u001b[0;31m    42 = n\u001b[0m\n\u001b[0m    ^\u001b[0m\n\u001b[0;31mSyntaxError\u001b[0m\u001b[0;31m:\u001b[0m cannot assign to literal\n"
     ]
    }
   ],
   "source": [
    "# Chapter 2, Exercise 1 \n",
    "42 = n\n",
    "print (42)"
   ]
  },
  {
   "cell_type": "code",
   "execution_count": 5,
   "id": "1fc90e14-0e91-4d8a-8b80-0221e5b17946",
   "metadata": {},
   "outputs": [
    {
     "name": "stdout",
     "output_type": "stream",
     "text": [
      "1\n"
     ]
    }
   ],
   "source": [
    "# Chapter 2, Exercise 1 \n",
    "x = y = 1\n",
    "print(x)"
   ]
  },
  {
   "cell_type": "code",
   "execution_count": 208,
   "id": "a9bdc676-21b0-4692-9f17-f66b501f360c",
   "metadata": {},
   "outputs": [
    {
     "name": "stdout",
     "output_type": "stream",
     "text": [
      "3\n"
     ]
    }
   ],
   "source": [
    "# Chapter 2, Exercise 1 \n",
    "x = 1 + 2\n",
    "print(x)"
   ]
  },
  {
   "cell_type": "code",
   "execution_count": 210,
   "id": "304901dd-6eb1-40a7-b996-3445b58c1008",
   "metadata": {},
   "outputs": [
    {
     "name": "stdout",
     "output_type": "stream",
     "text": [
      "4.0\n"
     ]
    }
   ],
   "source": [
    "x = 1 + 3. #Python expects that \".\" indicates a fload?\n",
    "print(x)"
   ]
  },
  {
   "cell_type": "code",
   "execution_count": 115,
   "id": "6d1fe5c2-4ac9-4682-8c65-1205a15608ed",
   "metadata": {},
   "outputs": [
    {
     "ename": "NameError",
     "evalue": "name 'xy' is not defined",
     "output_type": "error",
     "traceback": [
      "\u001b[0;31m---------------------------------------------------------------------------\u001b[0m",
      "\u001b[0;31mNameError\u001b[0m                                 Traceback (most recent call last)",
      "\u001b[0;32m/var/folders/fw/9sq6_3nx3gq6wfdk2wt2hq6c0000gn/T/ipykernel_1648/684290367.py\u001b[0m in \u001b[0;36m<module>\u001b[0;34m\u001b[0m\n\u001b[1;32m      1\u001b[0m \u001b[0;31m# Chapter 2, Exercise 1\u001b[0m\u001b[0;34m\u001b[0m\u001b[0;34m\u001b[0m\u001b[0m\n\u001b[0;32m----> 2\u001b[0;31m \u001b[0mxy\u001b[0m\u001b[0;34m\u001b[0m\u001b[0;34m\u001b[0m\u001b[0m\n\u001b[0m",
      "\u001b[0;31mNameError\u001b[0m: name 'xy' is not defined"
     ]
    }
   ],
   "source": [
    "# Chapter 2, Exercise 1 \n",
    "xy"
   ]
  },
  {
   "cell_type": "markdown",
   "id": "63080926-d859-49b7-b83c-6b6a57ec2275",
   "metadata": {},
   "source": [
    "**Chapter 2, Exercise 2 (a)**\n",
    "Practice using the Python interpreter as a calculator:\n",
    "-The volume of a sphere with radius r is 4/3 π r3. What is the volume of a sphere with radius 5?\n",
    "\n",
    "**Chapter 2, Exercise 2 (b)**\n",
    "-Suppose the cover price of a book is $24.95, but bookstores get a 40% discount. Shipping costs $3 for the first copy and 75 cents for each additional copy. What is the total wholesale cost for 60 copies?\n",
    "\n",
    "**Chapter 2, Exercise 2 (c)**\n",
    "-If I leave my house at 6:52 am and run 1 mile at an easy pace (8:15 per mile), then 3 miles at tempo (7:12 per mile) and 1 mile at easy pace again, what time do I get home for breakfast?"
   ]
  },
  {
   "cell_type": "code",
   "execution_count": 169,
   "id": "96e227bf-8e29-48c6-b775-a7268a4c9122",
   "metadata": {},
   "outputs": [
    {
     "name": "stdout",
     "output_type": "stream",
     "text": [
      "The volume of the sphere is:  523.5987755982989\n"
     ]
    }
   ],
   "source": [
    "# Chapter 2, Exercise 2 (a)\n",
    "import numpy\n",
    "from math import pi\n",
    "\n",
    "volume_sphere = 4/3 * pi * 5**3\n",
    "print(\"The volume of the sphere is: \", volume_sphere)"
   ]
  },
  {
   "cell_type": "code",
   "execution_count": 183,
   "id": "fb6f185c-2b5d-4882-a3f6-23375f67ecf5",
   "metadata": {},
   "outputs": [
    {
     "name": "stdout",
     "output_type": "stream",
     "text": [
      "The toal costs for 60 copies is: £ 646.05\n"
     ]
    }
   ],
   "source": [
    "# Chapter 2, Exercise 2 (b)\n",
    "cover_price_of_one_book = 24.95\n",
    "cover_price_of_one_book_bookstore = cover_price_of_one_book * 40 / 100\n",
    "cover_price_60_books = cover_price_of_one_book_bookstore * 60\n",
    "shipping_costs_one_book_bookstore = 3\n",
    "shipping_costs_59_copies = 0.75 * 59\n",
    "shipping_costs_60_books = shipping_costs_one_book_bookstore + shipping_costs_59_copies\n",
    "total_costs_60_copies = cover_price_60_books + shipping_costs_60_books\n",
    "total_costs_60_copies = round(total_costs_60_copies, 3)\n",
    "print(\"The toal costs for 60 copies is: £\" , total_costs_60_copies)"
   ]
  },
  {
   "cell_type": "code",
   "execution_count": 201,
   "id": "923a2553-2216-4d9d-a3c5-4fb9bad42cdd",
   "metadata": {},
   "outputs": [
    {
     "name": "stdout",
     "output_type": "stream",
     "text": [
      "minutes after 1 mile:  60\n",
      "seconds after 1 mile:  15\n",
      "hours after 1 mile:  7\n",
      "total time after 1 mile:  7 : 0 : 15\n",
      "minutes after 4 miles:  24\n",
      "seconds after 4 miles:  60\n",
      "total time after 4 miles:  7 : 25 : 15\n",
      "33\n",
      "30\n",
      "Breakfast time is at:  7 : 33 : 30\n"
     ]
    }
   ],
   "source": [
    "# Chapter 2, Exercise 2 (c)\n",
    "leaving_house_hours= 6\n",
    "leaving_house_mins= 52\n",
    "leaving_house_sec= 0\n",
    "\n",
    "mile_easy_peace_mins= 8\n",
    "mile_easy_peace_sec= 15\n",
    "\n",
    "miles_fast_mins= 7\n",
    "miles_fast_sec= 12\n",
    "\n",
    "time_after_1mile_mins= leaving_house_mins + mile_easy_peace_mins\n",
    "print (\"minutes after 1 mile: \", time_after_1mile_mins)\n",
    "time_after_1mile_sec= leaving_house_sec + mile_easy_peace_sec\n",
    "print(\"seconds after 1 mile: \", time_after_1mile_sec)\n",
    "time_after_1mile_hours= leaving_house_hours +1\n",
    "print(\"hours after 1 mile: \",time_after_1mile_hours)\n",
    "print (\"total time after 1 mile: \", time_after_1mile_hours, \": 0\",\":\",time_after_1mile_sec )\n",
    "\n",
    "time_after_4miles_mins= mile_easy_peace_mins*3\n",
    "print (\"minutes after 4 miles: \", time_after_4miles_mins)\n",
    "time_after_4miles_sec= mile_easy_peace_sec*3 + mile_easy_peace_sec\n",
    "print (\"seconds after 4 miles: \", time_after_4miles_sec)\n",
    "modified_minutes_after_4miles= 25\n",
    "modified_seconds_after_4miles= 0\n",
    "print (\"total time after 4 miles: \", time_after_1mile_hours, \":\", modified_minutes_after_4miles, \":\",time_after_1mile_sec )\n",
    "\n",
    "breakfast_time_mins= modified_minutes_after_4miles + mile_easy_peace_mins\n",
    "print(breakfast_time_mins)\n",
    "breakfast_time_sec= time_after_1mile_sec + time_after_1mile_sec\n",
    "print(breakfast_time_sec)\n",
    "breakfast_time_hours= 7\n",
    "\n",
    "print(\"Breakfast time is at: \", breakfast_time_hours, \":\", breakfast_time_mins, \":\", breakfast_time_sec)"
   ]
  },
  {
   "cell_type": "markdown",
   "id": "8168ef2c-f450-4d64-9648-d1cf8f39dc09",
   "metadata": {},
   "source": [
    "## Chapter 8, Exercise 1  \n",
    "Read the documentation of the string methods at http://docs.python.org/3/library/stdtypes.html#string-methods. You might want to experiment with some of them to make sure you understand how they work. strip and replace are particularly useful.\n",
    "The documentation uses a syntax that might be confusing. For example, in find(sub[, start[, end]]), the brackets indicate optional arguments. So sub is required, but start is optional, and if you include start, then end is optional."
   ]
  },
  {
   "cell_type": "code",
   "execution_count": 38,
   "id": "2ddc212f-0501-4dee-9d6b-c04cbe14269f",
   "metadata": {},
   "outputs": [
    {
     "data": {
      "text/plain": [
       "['banana', 'apple', 'peach']"
      ]
     },
     "execution_count": 38,
     "metadata": {},
     "output_type": "execute_result"
    }
   ],
   "source": [
    "#Chapter 8, Exercise 1 \n",
    "fruits = [\"banana\", \"apple\"]\n",
    "fruits.append(\"peach\")\n",
    "# Add the string \"peach\" from the list\n",
    "fruits"
   ]
  },
  {
   "cell_type": "code",
   "execution_count": 41,
   "id": "a52514d7-75bd-43af-a043-4fc66c7fd1ee",
   "metadata": {},
   "outputs": [
    {
     "data": {
      "text/plain": [
       "['banana']"
      ]
     },
     "execution_count": 41,
     "metadata": {},
     "output_type": "execute_result"
    }
   ],
   "source": [
    "fruits = [\"banana\", \"apple\"]\n",
    "fruits.remove(\"apple\")\n",
    "# Remove the string \"apple\" from the list\n",
    "fruits"
   ]
  },
  {
   "cell_type": "code",
   "execution_count": 127,
   "id": "85d6ddb2-9e43-498f-9c49-b8a3778b52c0",
   "metadata": {},
   "outputs": [
    {
     "data": {
      "text/plain": [
       "'BANANA'"
      ]
     },
     "execution_count": 127,
     "metadata": {},
     "output_type": "execute_result"
    }
   ],
   "source": [
    "a = \"banana\"\n",
    "b = a.upper()\n",
    "#print the string \"banana\" in uppercases\n",
    "b"
   ]
  },
  {
   "cell_type": "code",
   "execution_count": 128,
   "id": "311aeb29-6a12-48b6-8780-f0dcde2322f9",
   "metadata": {},
   "outputs": [
    {
     "data": {
      "text/plain": [
       "'strawberry'"
      ]
     },
     "execution_count": 128,
     "metadata": {},
     "output_type": "execute_result"
    }
   ],
   "source": [
    "a = \"STRAWBERRY\"\n",
    "b = a.lower()\n",
    "#print the string \"STRAWBERRY\" in lowercases\n",
    "b"
   ]
  },
  {
   "cell_type": "code",
   "execution_count": 129,
   "id": "49be6e2a-dd3b-49c0-87f9-b6da912de598",
   "metadata": {},
   "outputs": [
    {
     "name": "stdout",
     "output_type": "stream",
     "text": [
      "TR\n"
     ]
    }
   ],
   "source": [
    "a = \"STRAWBERRY\"\n",
    "#print the second and third chartcters of the string \"STRAWBERRY\"\n",
    "print(a[1:3])"
   ]
  },
  {
   "cell_type": "code",
   "execution_count": 134,
   "id": "af536828-0aeb-4b4b-9170-ba4fb7bc17d2",
   "metadata": {},
   "outputs": [
    {
     "name": "stdout",
     "output_type": "stream",
     "text": [
      "['I', 'like', 'pizza']\n"
     ]
    }
   ],
   "source": [
    "me = \"I             like            pizza\"\n",
    "# Remove white space by strip function and split into single words\n",
    "e = me.strip().split()\n",
    "print(e)"
   ]
  },
  {
   "cell_type": "markdown",
   "id": "c6aa26eb-f680-4933-99d8-40f3a4b141e0",
   "metadata": {},
   "source": [
    "## Chapter 8, Exercise 2  \n",
    "There is a string method called count that is similar to the function in Section 8.7. Read the documentation of this method and write an invocation that counts the number of a’s in 'banana'."
   ]
  },
  {
   "cell_type": "code",
   "execution_count": 42,
   "id": "d7f8fe15-9995-4483-9c01-2ca7d142353a",
   "metadata": {},
   "outputs": [
    {
     "name": "stdout",
     "output_type": "stream",
     "text": [
      "3\n"
     ]
    }
   ],
   "source": [
    "#Chapter 8, Exercise 2\n",
    "n = \"banana\"\n",
    "#print how many times letter a is counted in the string\n",
    "print(n.count('a'))"
   ]
  },
  {
   "cell_type": "markdown",
   "id": "6957737c-67a8-4ed5-80c4-f82107d081af",
   "metadata": {},
   "source": [
    "## Chapter 8, Exercise 3\n",
    "A string slice can take a third index that specifies the “step size”; that is, the number of spaces between successive characters. A step size of 2 means every other character; 3 means every third, etc.\n",
    ">>> fruit = 'banana'\n",
    ">>> fruit[0:5:2]\n",
    "'bnn'\n",
    "A step size of -1 goes through the word backwards, so the slice [::-1] generates a reversed string.\n",
    "Use this idiom to write a one-line version of is_palindrome from Exercise 3."
   ]
  },
  {
   "cell_type": "code",
   "execution_count": 65,
   "id": "fe41be42-ddf9-4bda-b8a3-aa9d3ff7f85e",
   "metadata": {
    "tags": []
   },
   "outputs": [
    {
     "data": {
      "text/plain": [
       "'ananab'"
      ]
     },
     "execution_count": 65,
     "metadata": {},
     "output_type": "execute_result"
    }
   ],
   "source": [
    "#Chapter 8, Exercise 3\n",
    "fruit = \"banana\"\n",
    "#print the string from the end to the beginning\n",
    "fruit[::-1]"
   ]
  },
  {
   "cell_type": "markdown",
   "id": "09a24c2f-cf41-4c4e-b7ae-6fb236947268",
   "metadata": {},
   "source": [
    "## Chapter 8, Exercise 4  \n",
    "The following functions are all intended to check whether a string contains any lowercase letters, but at least some of them are wrong. For each function, describe what the function actually does (assuming that the parameter is a string).\n",
    "\n",
    "def any_lowercase1(s):\n",
    "    for c in s:\n",
    "        if c.islower():\n",
    "            return True\n",
    "        else:\n",
    "            return False\n",
    "\n",
    "def any_lowercase2(s)\n",
    "    for c in s:\n",
    "        if 'c'.islower():\n",
    "            return 'True'\n",
    "        else:\n",
    "            return 'False'\n",
    "\n",
    "def any_lowercase3(s):\n",
    "    for c in s:\n",
    "        flag = c.islower()\n",
    "    return flag\n",
    "\n",
    "def any_lowercase4(s):\n",
    "    flag = False\n",
    "    for c in s:\n",
    "        flag = flag or c.islower()\n",
    "    return flag\n",
    "\n",
    "def any_lowercase5(s):\n",
    "    for c in s:\n",
    "        if not c.islower():\n",
    "            return False\n",
    "    return True"
   ]
  },
  {
   "cell_type": "code",
   "execution_count": 135,
   "id": "74a8532e-50bf-4513-9535-cd745e7fd495",
   "metadata": {},
   "outputs": [
    {
     "name": "stdout",
     "output_type": "stream",
     "text": [
      "False\n",
      "True\n",
      "True\n",
      "True\n",
      "True\n",
      "True\n"
     ]
    }
   ],
   "source": [
    "# Print true/false in relation to each letter of the string \"Banana\" being lower or capital. \n",
    "# In this case only the initial is capital, which returns to true.\n",
    "s = \"Banana\"\n",
    "for c in s:\n",
    "    if c.islower():\n",
    "        print(True)\n",
    "    else:\n",
    "        print(False)"
   ]
  },
  {
   "cell_type": "code",
   "execution_count": 147,
   "id": "6f16fe78-931e-4e01-94d7-e3e051980564",
   "metadata": {},
   "outputs": [
    {
     "name": "stdout",
     "output_type": "stream",
     "text": [
      "True\n",
      "True\n",
      "True\n",
      "True\n",
      "True\n",
      "True\n"
     ]
    }
   ],
   "source": [
    "# \"c\" is always lower, so it will be always true. \n",
    "s = \"Banana\"\n",
    "for c in s:\n",
    "    if \"c\".islower():\n",
    "        print(True)\n",
    "    else:\n",
    "        print(False)       "
   ]
  },
  {
   "cell_type": "code",
   "execution_count": 138,
   "id": "e0d51085-6f62-4f17-a679-594d41d8db15",
   "metadata": {},
   "outputs": [
    {
     "name": "stdout",
     "output_type": "stream",
     "text": [
      "False\n",
      "True\n",
      "True\n",
      "True\n",
      "True\n",
      "True\n"
     ]
    }
   ],
   "source": [
    "# The first letter of the string is capital, which returns to False, the other letters are lower, \n",
    "# which returns to True. \n",
    "s = \"Banana\"\n",
    "for c in s:\n",
    "    flag = c.islower()\n",
    "    print(flag)"
   ]
  },
  {
   "cell_type": "code",
   "execution_count": 139,
   "id": "1d76ac09-3054-4e66-aee6-9edfe6095f07",
   "metadata": {},
   "outputs": [
    {
     "name": "stdout",
     "output_type": "stream",
     "text": [
      "False\n",
      "True\n",
      "True\n",
      "True\n",
      "True\n",
      "True\n"
     ]
    }
   ],
   "source": [
    "#Or returns always True, except when we have \"False False\", when it returns False, as per the letter B.\n",
    "s = \"Banana\"\n",
    "flag = False\n",
    "for c in s:\n",
    "    flag = flag or c.islower()\n",
    "    print(flag)"
   ]
  },
  {
   "cell_type": "code",
   "execution_count": 158,
   "id": "74b12ee4-b79b-40e1-9ae5-15fe3fea71c8",
   "metadata": {},
   "outputs": [
    {
     "name": "stdout",
     "output_type": "stream",
     "text": [
      "False\n",
      "True\n"
     ]
    }
   ],
   "source": [
    "# The first letter of the string is capital, which returns to False, the other letters are lower, \n",
    "# which returns to True.\n",
    "s = \"Banana\"\n",
    "flag = False\n",
    "for c in s:\n",
    "    if not c.islower():\n",
    "        print(False)\n",
    "print(True)"
   ]
  },
  {
   "cell_type": "markdown",
   "id": "8f9bd294-194a-459a-be4a-a5f426387192",
   "metadata": {},
   "source": [
    "## Chapter 8, Exercise 5  \n",
    "A Caesar cypher is a weak form of encryption that involves “rotating” each letter by a fixed number of places. To rotate a letter means to shift it through the alphabet, wrapping around to the beginning if necessary, so ’A’ rotated by 3 is ’D’ and ’Z’ rotated by 1 is ’A’.\n",
    "To rotate a word, rotate each letter by the same amount. For example, “cheer” rotated by 7 is “jolly” and “melon” rotated by -10 is “cubed”. In the movie 2001: A Space Odyssey, the ship computer is called HAL, which is IBM rotated by -1.\n",
    "\n",
    "Write a function called rotate_word that takes a string and an integer as parameters, and returns a new string that contains the letters from the original string rotated by the given amount.\n",
    "\n",
    "You might want to use the built-in function ord, which converts a character to a numeric code, and chr, which converts numeric codes to characters. Letters of the alphabet are encoded in alphabetical order, so for example:\n",
    "\n",
    ">>> ord('c') - ord('a')\n",
    "2\n",
    "Because 'c' is the two-eth letter of the alphabet. But beware: the numeric codes for upper case letters are different.\n",
    "Potentially offensive jokes on the Internet are sometimes encoded in ROT13, which is a Caesar cypher with rotation 13. If you are not easily offended, find and decode some of them. Solution: http://thinkpython2.com/code/rotate.py.\n"
   ]
  },
  {
   "cell_type": "code",
   "execution_count": 159,
   "id": "f7fc6ee2-1a43-4d85-9244-abb98d826350",
   "metadata": {},
   "outputs": [
    {
     "name": "stdout",
     "output_type": "stream",
     "text": [
      "jolly\n",
      "HAL\n"
     ]
    }
   ],
   "source": [
    "def rotate_word(word, shift):\n",
    "    \"\"\"Uses Ceasar cypher to encrypt given word using given shift.\"\"\"\n",
    "    rotated_word = ''\n",
    "    for letter in word:\n",
    "        rotated_word += chr(ord(letter) + shift)\n",
    "    return rotated_word\n",
    "\n",
    "print(rotate_word('cheer', 7))\n",
    "print(rotate_word('IBM', -1))\n"
   ]
  },
  {
   "cell_type": "code",
   "execution_count": null,
   "id": "431dafd5-d74d-4b32-89e1-b426abae0da5",
   "metadata": {},
   "outputs": [],
   "source": []
  }
 ],
 "metadata": {
  "kernelspec": {
   "display_name": "Python 3 (ipykernel)",
   "language": "python",
   "name": "python3"
  },
  "language_info": {
   "codemirror_mode": {
    "name": "ipython",
    "version": 3
   },
   "file_extension": ".py",
   "mimetype": "text/x-python",
   "name": "python",
   "nbconvert_exporter": "python",
   "pygments_lexer": "ipython3",
   "version": "3.9.7"
  }
 },
 "nbformat": 4,
 "nbformat_minor": 5
}
