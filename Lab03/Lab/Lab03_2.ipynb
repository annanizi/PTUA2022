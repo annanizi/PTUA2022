{
 "cells": [
  {
   "cell_type": "markdown",
   "id": "cbd7336a-7d8c-480e-903b-1cd11286ebb9",
   "metadata": {},
   "source": [
    "## Lab03-2 Write code does the following experiment\n",
    " \n",
    "-For different values of the convergence criteria [0.01, 0.001, 0.0001, 0.00001] generate 10 estimates of Pi.\n",
    "  - For the four different convergence criteria have your script print the following statistics\n",
    "    - average number of draws required from the 10 runs\n",
    "    - standard deviation of the number of draws required from the 10 runs."
   ]
  },
  {
   "cell_type": "code",
   "execution_count": 131,
   "id": "8dd1a79b-7fc4-4307-b461-bd1726d50209",
   "metadata": {},
   "outputs": [],
   "source": [
    "import numpy as np"
   ]
  },
  {
   "cell_type": "code",
   "execution_count": 135,
   "id": "c1e108ff-1d6d-4e44-878b-94b2e221374f",
   "metadata": {},
   "outputs": [
    {
     "name": "stdout",
     "output_type": "stream",
     "text": [
      "Draws needed:  14\n",
      "[0.0, 2.0, 2.6666666666666665, 3.0, 3.2, 3.3333333333333335, 3.4285714285714284, 3.5, 3.5555555555555554, 3.2]\n",
      "Average number of draws required from the 10 runs: 2.7884126984126985\n",
      "Standard deviation of the number of draws required from the 10 runs: 1.0294098214505565\n"
     ]
    }
   ],
   "source": [
    "# Printing 10 estimates of Pi for p=0.01\n",
    "\n",
    "n = 0\n",
    "d = 0\n",
    "ratios = []\n",
    "xs = []\n",
    "ys = []\n",
    "simulating = True\n",
    "while simulating:\n",
    "    x = random.random()\n",
    "    y = random.random()\n",
    "    xs.append(x)\n",
    "    ys.append(y)\n",
    "    if x**2 + y**2 <= 1.0:\n",
    "        n += 1\n",
    "    d += 1\n",
    "    ratio = 4 * n * 1./d\n",
    "    \n",
    "    ratios.append(ratio)\n",
    "    if abs(ratio-pi) / pi <= 0.01:\n",
    "        print(\"Draws needed: \", d)\n",
    "        break\n",
    "\n",
    "print(ratios[:10])\n",
    "print(\"Average number of draws required from the 10 runs: \"+ str(np.mean(ratios[:10])))\n",
    "print(\"Standard deviation of the number of draws required from the 10 runs: \" + str(np.std(ratios[:10])))"
   ]
  },
  {
   "cell_type": "code",
   "execution_count": 142,
   "id": "0f5f9b96-d5f6-4fa2-92f1-8a173271dde3",
   "metadata": {},
   "outputs": [
    {
     "name": "stdout",
     "output_type": "stream",
     "text": [
      "Draws needed:  353\n",
      "[4.0, 4.0, 2.6666666666666665, 2.0, 2.4, 2.6666666666666665, 2.857142857142857, 3.0, 3.111111111111111, 3.2]\n",
      "Average number of draws required from the 10 runs: 2.99015873015873\n",
      "Standard deviation of the number of draws required from the 10 runs: 0.6044838755979342\n"
     ]
    }
   ],
   "source": [
    "# Printing 10 estimates of Pi for p=0.001\n",
    "\n",
    "n = 0\n",
    "d = 0\n",
    "ratios = []\n",
    "xs = []\n",
    "ys = []\n",
    "simulating = True\n",
    "while simulating:\n",
    "    x = random.random()\n",
    "    y = random.random()\n",
    "    xs.append(x)\n",
    "    ys.append(y)\n",
    "    if x**2 + y**2 <= 1.0:\n",
    "        n += 1\n",
    "    d += 1\n",
    "    ratio = 4 * n * 1./d\n",
    "    \n",
    "    ratios.append(ratio)\n",
    "    if abs(ratio-pi) / pi <= 0.001:\n",
    "        print(\"Draws needed: \", d)\n",
    "        break\n",
    "\n",
    "print(ratios[:10])\n",
    "print(\"Average number of draws required from the 10 runs: \"+ str(np.mean(ratios[:10])))\n",
    "print(\"Standard deviation of the number of draws required from the 10 runs: \" + str(np.std(ratios[:10])))"
   ]
  },
  {
   "cell_type": "code",
   "execution_count": 143,
   "id": "9e7b7a04-4a53-4c95-8490-92c970b17aad",
   "metadata": {},
   "outputs": [
    {
     "name": "stdout",
     "output_type": "stream",
     "text": [
      "Draws needed:  396\n",
      "[0.0, 2.0, 2.6666666666666665, 3.0, 3.2, 3.3333333333333335, 3.4285714285714284, 3.5, 3.5555555555555554, 3.2]\n",
      "Average number of draws required from the 10 runs: 2.7884126984126985\n",
      "Standard deviation of the number of draws required from the 10 runs: 1.0294098214505565\n"
     ]
    }
   ],
   "source": [
    "# Printing 10 estimates of Pi for p=0.0001\n",
    "\n",
    "n = 0\n",
    "d = 0\n",
    "ratios = []\n",
    "xs = []\n",
    "ys = []\n",
    "simulating = True\n",
    "while simulating:\n",
    "    x = random.random()\n",
    "    y = random.random()\n",
    "    xs.append(x)\n",
    "    ys.append(y)\n",
    "    if x**2 + y**2 <= 1.0:\n",
    "        n += 1\n",
    "    d += 1\n",
    "    ratio = 4 * n * 1./d\n",
    "    \n",
    "    ratios.append(ratio)\n",
    "    if abs(ratio-pi) / pi <= 0.0001:\n",
    "        print(\"Draws needed: \", d)\n",
    "        break\n",
    "\n",
    "print(ratios[:10])\n",
    "print(\"Average number of draws required from the 10 runs: \"+ str(np.mean(ratios[:10])))\n",
    "print(\"Standard deviation of the number of draws required from the 10 runs: \" + str(np.std(ratios[:10])))"
   ]
  },
  {
   "cell_type": "code",
   "execution_count": 144,
   "id": "0d721f77-cdaa-4e35-a5fd-9fb2661edbf7",
   "metadata": {},
   "outputs": [
    {
     "name": "stdout",
     "output_type": "stream",
     "text": [
      "Draws needed:  3574\n",
      "3.1415780637940682\n",
      "[4.0, 4.0, 2.6666666666666665, 2.0, 2.4, 2.0, 2.2857142857142856, 2.0, 2.2222222222222223, 2.4]\n",
      "Average number of draws required from the 10 runs: 2.5974603174603175\n",
      "Standard deviation of the number of draws required from the 10 runs: 0.7297856880041714\n"
     ]
    }
   ],
   "source": [
    "# Printing 10 estimates of Pi for p=0.0001\n",
    "\n",
    "n = 0 # number of points falling in the unit circle\n",
    "d = 0 # number of points falling in the unit square\n",
    "ratios = []\n",
    "xs = []\n",
    "ys = []\n",
    "simulating = True # use as a sentinel\n",
    "while simulating:\n",
    "    x = random.random()\n",
    "    y = random.random()\n",
    "    xs.append(x)\n",
    "    ys.append(y)\n",
    "    if x**2 + y**2 <= 1.0:\n",
    "        n += 1\n",
    "    d += 1\n",
    "    ratio = 4 * n * 1./d\n",
    "    \n",
    "    #print(ratio)\n",
    "    #print(d)\n",
    "    ratios.append(ratio)\n",
    "    if abs(ratio-pi) / pi <= 0.00001:\n",
    "        print(\"Draws needed: \", d)\n",
    "        print(ratio)\n",
    "        break\n",
    "\n",
    "print(ratios[:10])\n",
    "print(\"Average number of draws required from the 10 runs: \"+ str(np.mean(ratios[:10])))\n",
    "print(\"Standard deviation of the number of draws required from the 10 runs: \" + str(np.std(ratios[:10])))"
   ]
  },
  {
   "cell_type": "code",
   "execution_count": null,
   "id": "f81692db-3573-45a9-bdde-8d5f88e1a03c",
   "metadata": {},
   "outputs": [],
   "source": []
  }
 ],
 "metadata": {
  "kernelspec": {
   "display_name": "Python 3 (ipykernel)",
   "language": "python",
   "name": "python3"
  },
  "language_info": {
   "codemirror_mode": {
    "name": "ipython",
    "version": 3
   },
   "file_extension": ".py",
   "mimetype": "text/x-python",
   "name": "python",
   "nbconvert_exporter": "python",
   "pygments_lexer": "ipython3",
   "version": "3.9.7"
  }
 },
 "nbformat": 4,
 "nbformat_minor": 5
}
