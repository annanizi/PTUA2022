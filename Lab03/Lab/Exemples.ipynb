{
 "cells": [
  {
   "cell_type": "code",
   "execution_count": 1,
   "id": "f1ca7bea-8722-434c-b151-4b32e6d068cb",
   "metadata": {},
   "outputs": [
    {
     "name": "stdout",
     "output_type": "stream",
     "text": [
      "[0]\n",
      "[0, 1]\n",
      "[0, 1, 2]\n",
      "[0, 1, 2, 3]\n",
      "[0, 1, 2, 3, 4]\n",
      "[0, 1, 2, 3, 4, 5]\n",
      "[0, 1, 2, 3, 4, 5, 6]\n",
      "[0, 1, 2, 3, 4, 5, 6, 7]\n",
      "[0, 1, 2, 3, 4, 5, 6, 7, 8]\n",
      "[0, 1, 2, 3, 4, 5, 6, 7, 8, 9]\n"
     ]
    }
   ],
   "source": [
    "d=0\n",
    "pipo2 = []\n",
    "\n",
    "while d<10:\n",
    "    pipo2.append(d)\n",
    "    d+=1\n",
    "    print(pipo2)\n",
    "    \n",
    "#pipo2"
   ]
  },
  {
   "cell_type": "code",
   "execution_count": 2,
   "id": "d365df6a-7e72-4a67-af69-2306e3490dab",
   "metadata": {},
   "outputs": [
    {
     "name": "stdout",
     "output_type": "stream",
     "text": [
      "[0, 1, 2, 3, 4, 5, 6, 7, 8, 9]\n"
     ]
    }
   ],
   "source": [
    "d=0\n",
    "pipo2 = []\n",
    "\n",
    "while d<10:\n",
    "    pipo2.append(d)\n",
    "    d+=1\n",
    "    \n",
    "print(pipo2)"
   ]
  },
  {
   "cell_type": "code",
   "execution_count": 3,
   "id": "033bb2fc-e407-402e-b3d0-f4610bb0df0d",
   "metadata": {},
   "outputs": [
    {
     "data": {
      "text/plain": [
       "['a',\n",
       " 'boh',\n",
       " 'spagna',\n",
       " 2,\n",
       " 'b',\n",
       " 'boh',\n",
       " 'spagna',\n",
       " 4,\n",
       " 'c',\n",
       " 'boh',\n",
       " 'spagna',\n",
       " 6,\n",
       " 'd',\n",
       " 'boh',\n",
       " 'spagna',\n",
       " 8]"
      ]
     },
     "execution_count": 3,
     "metadata": {},
     "output_type": "execute_result"
    }
   ],
   "source": [
    "pipo = []\n",
    "d=0\n",
    "\n",
    "for x in [\"a\",\"b\",\"c\",\"d\"]:\n",
    "    pipo.append(x)\n",
    "    pipo.append(\"boh\")\n",
    "    pipo.append(\"spagna\")\n",
    "    d+=2\n",
    "    pipo.append(d)\n",
    "    \n",
    "pipo"
   ]
  },
  {
   "cell_type": "code",
   "execution_count": 4,
   "id": "88f0bda5-1f14-4d82-8a2f-58c35b7dc20e",
   "metadata": {},
   "outputs": [
    {
     "data": {
      "text/plain": [
       "True"
      ]
     },
     "execution_count": 4,
     "metadata": {},
     "output_type": "execute_result"
    }
   ],
   "source": [
    "3 == 3"
   ]
  },
  {
   "cell_type": "code",
   "execution_count": 5,
   "id": "69360b6c-d3b5-4146-8adf-3ab6a8ff0387",
   "metadata": {},
   "outputs": [
    {
     "data": {
      "text/plain": [
       "False"
      ]
     },
     "execution_count": 5,
     "metadata": {},
     "output_type": "execute_result"
    }
   ],
   "source": [
    "True == 10"
   ]
  },
  {
   "cell_type": "code",
   "execution_count": 6,
   "id": "9b75b6d9-66f3-4687-b39d-6211ec82d8f4",
   "metadata": {},
   "outputs": [
    {
     "data": {
      "text/plain": [
       "False"
      ]
     },
     "execution_count": 6,
     "metadata": {},
     "output_type": "execute_result"
    }
   ],
   "source": [
    "3==2"
   ]
  }
 ],
 "metadata": {
  "kernelspec": {
   "display_name": "Python 3 (ipykernel)",
   "language": "python",
   "name": "python3"
  },
  "language_info": {
   "codemirror_mode": {
    "name": "ipython",
    "version": 3
   },
   "file_extension": ".py",
   "mimetype": "text/x-python",
   "name": "python",
   "nbconvert_exporter": "python",
   "pygments_lexer": "ipython3",
   "version": "3.9.7"
  }
 },
 "nbformat": 4,
 "nbformat_minor": 5
}
